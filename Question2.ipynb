{
 "cells": [
  {
   "cell_type": "markdown",
   "metadata": {
    "deletable": true,
    "editable": true
   },
   "source": [
    "# Challenge 2: Recommendation Engine for Prime Video"
   ]
  },
  {
   "cell_type": "markdown",
   "metadata": {
    "deletable": true,
    "editable": true
   },
   "source": [
    "# Imports"
   ]
  },
  {
   "cell_type": "code",
   "execution_count": 1,
   "metadata": {
    "collapsed": false,
    "deletable": true,
    "editable": true
   },
   "outputs": [],
   "source": [
    "import numpy as np\n",
    "import pandas as pd\n",
    "import matplotlib.pyplot as plt\n",
    "\n",
    "# This is a bit of magic to make matplotlib figures appear inline in the\n",
    "# notebook rather than in a new window.\n",
    "% matplotlib inline\n",
    "plt.rcParams['figure.figsize'] = (10.0, 8.0) # set default size of plots\n",
    "plt.rcParams['image.interpolation'] = 'nearest'\n",
    "plt.rcParams['image.cmap'] = 'gray'\n",
    "\n",
    "# Some more magic so that the notebook will reload external python modules;\n",
    "# see http://stackoverflow.com/questions/1907993/autoreload-of-modules-in-ipython\n",
    "% load_ext autoreload\n",
    "% autoreload 2"
   ]
  },
  {
   "cell_type": "markdown",
   "metadata": {
    "deletable": true,
    "editable": true
   },
   "source": [
    "# Load Data"
   ]
  },
  {
   "cell_type": "code",
   "execution_count": 2,
   "metadata": {
    "collapsed": false,
    "deletable": true,
    "editable": true,
    "scrolled": false
   },
   "outputs": [
    {
     "name": "stdout",
     "output_type": "stream",
     "text": [
      "(41775, 3)\n",
      "(2785, 5)\n",
      "\n",
      "\n",
      "   video_id  counts        date\n",
      "0         1  140460  2015-01-01\n",
      "1         1  129082  2015-01-02\n",
      "2         1  120868  2015-01-03\n",
      "\n",
      "\n",
      "   video_id  video_length video_language video_upload_date video_quality\n",
      "0         1          1496             Es        2014-12-04          720p\n",
      "1         2           751             Cn        2014-12-14          480p\n",
      "2         3           807             En        2014-12-15         1080p\n"
     ]
    }
   ],
   "source": [
    "# Load video counts. Sort by video ID & date\n",
    "video_data = pd.read_csv('data/challenge_2/video_count.csv')\n",
    "video_data = video_data.sort_values(by=['video_id', 'date'])\n",
    "video_data = video_data.reset_index(drop=True)\n",
    "print(video_data.shape)\n",
    "\n",
    "# Load video features. Sort by video ID\n",
    "video_features = pd.read_csv('data/challenge_2/video_features.csv')\n",
    "video_features = video_features.sort_values(by=['video_id'])\n",
    "video_features = video_features.reset_index(drop=True)\n",
    "print(video_features.shape)\n",
    "\n",
    "print('\\n')\n",
    "print(video_data.head(3))\n",
    "print('\\n')\n",
    "print(video_features.head(3))"
   ]
  },
  {
   "cell_type": "markdown",
   "metadata": {
    "deletable": true,
    "editable": true
   },
   "source": [
    "### Data Information"
   ]
  },
  {
   "cell_type": "code",
   "execution_count": 3,
   "metadata": {
    "collapsed": false,
    "deletable": true,
    "editable": true
   },
   "outputs": [
    {
     "name": "stdout",
     "output_type": "stream",
     "text": [
      "41775 total samples\n",
      "15 different days\n",
      "2785 different videos\n"
     ]
    }
   ],
   "source": [
    "total_samples = video_data.counts.shape[0]\n",
    "num_days = np.unique(video_data['date']).shape[0]\n",
    "num_vids = int(total_samples / num_days)\n",
    "\n",
    "print('%d total samples' % total_samples)\n",
    "print('%d different days' % num_days)\n",
    "print('%d different videos' % num_vids)"
   ]
  },
  {
   "cell_type": "markdown",
   "metadata": {
    "deletable": true,
    "editable": true
   },
   "source": [
    "## Group counts to video_id"
   ]
  },
  {
   "cell_type": "code",
   "execution_count": 4,
   "metadata": {
    "collapsed": false,
    "deletable": true,
    "editable": true
   },
   "outputs": [
    {
     "name": "stdout",
     "output_type": "stream",
     "text": [
      "Video counts:  (2785, 15)\n",
      "    Video ID:  (2785, 1)\n"
     ]
    }
   ],
   "source": [
    "counts = np.zeros((num_vids, num_days))\n",
    "video_id = np.zeros((num_vids, 1))\n",
    "\n",
    "for vid_id in range(num_vids):\n",
    "    counts[vid_id, :] = video_data['counts'][(vid_id*num_days) : (vid_id+1)*num_days]\n",
    "    video_id[vid_id, 0] = video_data['video_id'][(vid_id*num_days)]\n",
    "    \n",
    "print('Video counts: ', counts.shape)\n",
    "print('    Video ID: ', video_id.shape)"
   ]
  },
  {
   "cell_type": "markdown",
   "metadata": {
    "deletable": true,
    "editable": true
   },
   "source": [
    "## Normalise data"
   ]
  },
  {
   "cell_type": "code",
   "execution_count": 5,
   "metadata": {
    "collapsed": false,
    "deletable": true,
    "editable": true
   },
   "outputs": [
    {
     "name": "stdout",
     "output_type": "stream",
     "text": [
      "Normalised data shape:  (2785, 15)\n"
     ]
    }
   ],
   "source": [
    "counts_norm = np.zeros(counts.shape)\n",
    "\n",
    "for i in range(num_vids):\n",
    "    counts_norm[i,:] = counts[i,:] / counts[i,0]\n",
    "    \n",
    "print('Normalised data shape: ', counts_norm.shape)"
   ]
  },
  {
   "cell_type": "markdown",
   "metadata": {
    "deletable": true,
    "editable": true
   },
   "source": [
    "# Clustering"
   ]
  },
  {
   "cell_type": "markdown",
   "metadata": {
    "deletable": true,
    "editable": true
   },
   "source": [
    "## Classify 'Hot' Videos"
   ]
  },
  {
   "cell_type": "markdown",
   "metadata": {},
   "source": [
    "Hot videos means trending upwards. These videos are candidates to be shown and are characterised by a large increase in the normalised view count (which is normalised to the `video_id` count at the beginning of the investigation period)."
   ]
  },
  {
   "cell_type": "code",
   "execution_count": 6,
   "metadata": {
    "collapsed": false,
    "deletable": true,
    "editable": true
   },
   "outputs": [],
   "source": [
    "from sklearn.cluster import KMeans\n",
    "\n",
    "kmeans1 = KMeans(n_clusters=2, tol=1e2, init='random', random_state=0).fit(counts_norm)\n",
    "dict1 = {i: np.where(kmeans1.labels_ == i)[0] for i in range(kmeans1.n_clusters)}"
   ]
  },
  {
   "cell_type": "code",
   "execution_count": 7,
   "metadata": {
    "collapsed": false,
    "deletable": true,
    "editable": true
   },
   "outputs": [
    {
     "name": "stdout",
     "output_type": "stream",
     "text": [
      "\"Hot\" videos:  463\n",
      "Other videos:  2322\n"
     ]
    }
   ],
   "source": [
    "if np.mean(counts_norm[dict1[0]]) > np.mean(counts_norm[dict1[1]]):\n",
    "    hot_idx = dict1[0]\n",
    "    other_idx = dict1[1]\n",
    "    labels1 = ['Hot', 'Other']\n",
    "else:\n",
    "    hot_idx = dict1[1]\n",
    "    other_idx = dict1[0]\n",
    "    labels1 = ['Other', 'Hot']\n",
    "\n",
    "print('\"Hot\" videos: ', hot_idx.shape[0])\n",
    "print('Other videos: ', other_idx.shape[0])"
   ]
  },
  {
   "cell_type": "code",
   "execution_count": 8,
   "metadata": {
    "collapsed": false
   },
   "outputs": [
    {
     "name": "stdout",
     "output_type": "stream",
     "text": [
      "Hot:          Average Normalised Count: 30.25          Average Daily Count: 85810\n",
      "Other:          Average Normalised Count:  0.87          Average Daily Count: 731759\n"
     ]
    },
    {
     "data": {
      "image/png": "[encoded data removed]",
      "text/plain": [
       "<Figure size 1152x288 with 2 Axes>"
      ]
     },
     "metadata": {},
     "output_type": "display_data"
    }
   ],
   "source": [
    "from utils.utils import*\n",
    "\n",
    "plot1(kmeans1, counts, counts_norm, dict1, labels1)"
   ]
  },
  {
   "cell_type": "markdown",
   "metadata": {
    "deletable": true,
    "editable": true
   },
   "source": [
    "## Classify Stable & Popular vs. Everything Else"
   ]
  },
  {
   "cell_type": "markdown",
   "metadata": {},
   "source": [
    "Popular videos are stable in the sense that their view counts are flat, but very high. Their normalised view count (normalised to the view count at the beginning of the investigation period) is approximately 1.00, indicating the view counts are flat. These videos are candidates to be shown and are characterised by large absolute view counts."
   ]
  },
  {
   "cell_type": "code",
   "execution_count": 9,
   "metadata": {
    "collapsed": false,
    "deletable": true,
    "editable": true
   },
   "outputs": [],
   "source": [
    "kmeans2 = KMeans(n_clusters=2, random_state=0).fit(counts[other_idx])\n",
    "dict2 = {i: np.where(kmeans2.labels_ == i)[0] for i in range(kmeans2.n_clusters)}"
   ]
  },
  {
   "cell_type": "code",
   "execution_count": 10,
   "metadata": {
    "collapsed": false,
    "deletable": true,
    "editable": true
   },
   "outputs": [
    {
     "name": "stdout",
     "output_type": "stream",
     "text": [
      "\"Popular\" videos:  509\n",
      "Everything Else:  1813\n"
     ]
    }
   ],
   "source": [
    "if np.mean(counts[other_idx][dict2[0]]) > np.mean(counts[other_idx][dict2[1]]):\n",
    "    popular_idx = dict2[0]\n",
    "    else_idx = dict2[1]\n",
    "    labels2 = ['Popular', 'Else']\n",
    "else:\n",
    "    popular_idx = dict2[1]\n",
    "    else_idx = dict2[0]\n",
    "    labels2 = ['Else', 'Popular']\n",
    "\n",
    "print('\"Popular\" videos: ', popular_idx.shape[0])\n",
    "print('Everything Else: ', else_idx.shape[0])"
   ]
  },
  {
   "cell_type": "code",
   "execution_count": 11,
   "metadata": {
    "collapsed": false
   },
   "outputs": [
    {
     "name": "stdout",
     "output_type": "stream",
     "text": [
      "Else:          Average Normalised Count:  0.83          Average Daily Count: 305828\n",
      "Popular:          Average Normalised Count:  1.01          Average Daily Count: 2248874\n"
     ]
    },
    {
     "data": {
      "image/png": "[encoded data removed]",
      "text/plain": [
       "<Figure size 1152x288 with 2 Axes>"
      ]
     },
     "metadata": {},
     "output_type": "display_data"
    }
   ],
   "source": [
    "from utils.utils import*\n",
    "plot2(kmeans2, counts[other_idx], counts_norm[other_idx], dict2, labels2)"
   ]
  },
  {
   "cell_type": "markdown",
   "metadata": {
    "deletable": true,
    "editable": true
   },
   "source": [
    "# Classifications"
   ]
  },
  {
   "cell_type": "markdown",
   "metadata": {},
   "source": [
    "## Save classifications & print some to screen"
   ]
  },
  {
   "cell_type": "code",
   "execution_count": 12,
   "metadata": {
    "collapsed": false,
    "deletable": true,
    "editable": true,
    "scrolled": true
   },
   "outputs": [
    {
     "data": {
      "text/plain": [
       "array([[10.],\n",
       "       [13.],\n",
       "       [15.],\n",
       "       [28.],\n",
       "       [49.]])"
      ]
     },
     "execution_count": 12,
     "metadata": {},
     "output_type": "execute_result"
    }
   ],
   "source": [
    "## Hot videos\n",
    "np.savetxt('results/Q2/Hot_Video_ID.csv', video_id[hot_idx])\n",
    "video_id[hot_idx][:5]"
   ]
  },
  {
   "cell_type": "code",
   "execution_count": 13,
   "metadata": {
    "collapsed": false,
    "deletable": true,
    "editable": true
   },
   "outputs": [
    {
     "data": {
      "text/plain": [
       "array([[ 2.],\n",
       "       [ 3.],\n",
       "       [ 4.],\n",
       "       [ 8.],\n",
       "       [12.]])"
      ]
     },
     "execution_count": 13,
     "metadata": {},
     "output_type": "execute_result"
    }
   ],
   "source": [
    "## Stable & Popular videos\n",
    "np.savetxt('results/Q2/Popular_Video_ID.csv', video_id[popular_idx])\n",
    "video_id[popular_idx][:5]"
   ]
  },
  {
   "cell_type": "code",
   "execution_count": 14,
   "metadata": {
    "collapsed": false,
    "deletable": true,
    "editable": true
   },
   "outputs": [
    {
     "data": {
      "text/plain": [
       "array([[1.],\n",
       "       [5.],\n",
       "       [6.],\n",
       "       [7.],\n",
       "       [9.]])"
      ]
     },
     "execution_count": 14,
     "metadata": {},
     "output_type": "execute_result"
    }
   ],
   "source": [
    "## Everything Else\n",
    "np.savetxt('results/Q2/Else_Video_ID.csv', video_id[else_idx])\n",
    "video_id[else_idx][:5]"
   ]
  },
  {
   "cell_type": "markdown",
   "metadata": {
    "collapsed": false,
    "deletable": true,
    "editable": true
   },
   "source": [
    "## Characteristics of \"Hot\" Videos"
   ]
  },
  {
   "cell_type": "code",
   "execution_count": 15,
   "metadata": {
    "collapsed": true
   },
   "outputs": [],
   "source": [
    "all_idx = np.arange(num_vids)"
   ]
  },
  {
   "cell_type": "markdown",
   "metadata": {},
   "source": [
    "### Video Length"
   ]
  },
  {
   "cell_type": "code",
   "execution_count": 35,
   "metadata": {
    "collapsed": false
   },
   "outputs": [
    {
     "data": {
      "image/png": "[encoded data removed]",
      "text/plain": [
       "<Figure size 1152x432 with 1 Axes>"
      ]
     },
     "metadata": {},
     "output_type": "display_data"
    }
   ],
   "source": [
    "from utils.utils import *\n",
    "plot_video_length(video_features['video_length'], hot_idx, popular_idx, else_idx, all_idx)"
   ]
  },
  {
   "cell_type": "code",
   "execution_count": 38,
   "metadata": {
    "collapsed": false,
    "deletable": true,
    "editable": true
   },
   "outputs": [
    {
     "data": {
      "image/png": "[encoded data removed]",
      "text/plain": [
       "<Figure size 1152x432 with 1 Axes>"
      ]
     },
     "metadata": {},
     "output_type": "display_data"
    }
   ],
   "source": [
    "series1 = video_features['video_length'][hot_idx]\n",
    "series2 = video_features['video_length'][popular_idx]\n",
    "series3 = video_features['video_length'][else_idx]\n",
    "series4 = video_features['video_length'][all_idx]\n",
    "series = [series1, series2, series3, series4]\n",
    "labels = ['hot', 'pop', 'else', 'all']\n",
    "colors = ['red', 'blue', 'green', 'black']\n",
    "\n",
    "plt.figure(figsize=(16,6))\n",
    "plt.title('Video Length', fontsize=20)\n",
    "plt.xlabel('Length', fontsize=16)\n",
    "plt.ylabel('Occurrences (%)', fontsize=16)\n",
    "    \n",
    "plt.hist(series, bins=5, histtype='bar', align='mid', rwidth=0.75, density=True, color=colors, label=labels)\n",
    "\n",
    "plt.xticks(fontsize=14)\n",
    "plt.yticks(fontsize=14)\n",
    "\n",
    "plt.legend(fontsize=14)\n",
    "plt.show()"
   ]
  },
  {
   "cell_type": "code",
   "execution_count": null,
   "metadata": {
    "collapsed": true
   },
   "outputs": [],
   "source": [
    "from utils.utils import *\n",
    "\n",
    "plot_video_language(video_features['video_length'], hot_idx, popular_idx, else_idx, all_idx)"
   ]
  },
  {
   "cell_type": "code",
   "execution_count": null,
   "metadata": {
    "collapsed": true
   },
   "outputs": [],
   "source": []
  },
  {
   "cell_type": "markdown",
   "metadata": {},
   "source": [
    "### Video Language"
   ]
  },
  {
   "cell_type": "code",
   "execution_count": null,
   "metadata": {
    "collapsed": false
   },
   "outputs": [],
   "source": [
    "from utils.utils import *\n",
    "\n",
    "plot_video_language(video_features['video_language'], hot_idx, popular_idx, else_idx, all_idx)"
   ]
  },
  {
   "cell_type": "markdown",
   "metadata": {},
   "source": [
    "### Video Upload Date"
   ]
  },
  {
   "cell_type": "code",
   "execution_count": null,
   "metadata": {
    "collapsed": false
   },
   "outputs": [],
   "source": [
    "from utils.utils import*\n",
    "\n",
    "plot_video_date(video_features['video_upload_date'], hot_idx, popular_idx, else_idx, all_idx)"
   ]
  },
  {
   "cell_type": "markdown",
   "metadata": {},
   "source": [
    "### Video Quality"
   ]
  },
  {
   "cell_type": "code",
   "execution_count": null,
   "metadata": {
    "collapsed": false
   },
   "outputs": [],
   "source": [
    "from utils.utils import*\n",
    "\n",
    "plot_video_quality(video_features['video_quality'], hot_idx, popular_idx, else_idx, all_idx)"
   ]
  },
  {
   "cell_type": "code",
   "execution_count": null,
   "metadata": {
    "collapsed": true
   },
   "outputs": [],
   "source": []
  }
 ],
 "metadata": {
  "kernelspec": {
   "display_name": "Python 3",
   "language": "python",
   "name": "python3"
  },
  "language_info": {
   "codemirror_mode": {
    "name": "ipython",
    "version": 3
   },
   "file_extension": ".py",
   "mimetype": "text/x-python",
   "name": "python",
   "nbconvert_exporter": "python",
   "pygments_lexer": "ipython3",
   "version": "3.5.2"
  }
 },
 "nbformat": 4,
 "nbformat_minor": 0
}
