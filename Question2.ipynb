{
 "cells": [
  {
   "cell_type": "markdown",
   "metadata": {
    "deletable": true,
    "editable": true
   },
   "source": [
    "# Challenge 2: Recommendation Engine for Prime Video"
   ]
  },
  {
   "cell_type": "markdown",
   "metadata": {
    "deletable": true,
    "editable": true
   },
   "source": [
    "# Imports"
   ]
  },
  {
   "cell_type": "code",
   "execution_count": 1,
   "metadata": {
    "collapsed": false,
    "deletable": true,
    "editable": true
   },
   "outputs": [
    {
     "name": "stderr",
     "output_type": "stream",
     "text": [
      "/usr/local/lib/python3.5/dist-packages/h5py/__init__.py:34: FutureWarning: Conversion of the second argument of issubdtype from `float` to `np.floating` is deprecated. In future, it will be treated as `np.float64 == np.dtype(float).type`.\n",
      "  from ._conv import register_converters as _register_converters\n",
      "Using TensorFlow backend.\n"
     ]
    }
   ],
   "source": [
    "import keras\n",
    "import time\n",
    "\n",
    "import numpy as np\n",
    "import pandas as pd\n",
    "import matplotlib.pyplot as plt\n",
    "\n",
    "# This is a bit of magic to make matplotlib figures appear inline in the\n",
    "# notebook rather than in a new window.\n",
    "% matplotlib inline\n",
    "plt.rcParams['figure.figsize'] = (10.0, 8.0) # set default size of plots\n",
    "plt.rcParams['image.interpolation'] = 'nearest'\n",
    "plt.rcParams['image.cmap'] = 'gray'\n",
    "\n",
    "# Some more magic so that the notebook will reload external python modules;\n",
    "# see http://stackoverflow.com/questions/1907993/autoreload-of-modules-in-ipython\n",
    "% load_ext autoreload\n",
    "% autoreload 2"
   ]
  },
  {
   "cell_type": "markdown",
   "metadata": {
    "deletable": true,
    "editable": true
   },
   "source": [
    "# Load Data"
   ]
  },
  {
   "cell_type": "code",
   "execution_count": 2,
   "metadata": {
    "collapsed": false,
    "deletable": true,
    "editable": true,
    "scrolled": false
   },
   "outputs": [
    {
     "name": "stdout",
     "output_type": "stream",
     "text": [
      "(41775, 3)\n",
      "(2785, 5)\n",
      "\n",
      "\n",
      "   video_id  counts        date\n",
      "0         1  140460  2015-01-01\n",
      "1         1  129082  2015-01-02\n",
      "2         1  120868  2015-01-03\n",
      "\n",
      "\n",
      "   video_id  video_length video_language video_upload_date video_quality\n",
      "0         1          1496             Es        2014-12-04          720p\n",
      "1         2           751             Cn        2014-12-14          480p\n",
      "2         3           807             En        2014-12-15         1080p\n"
     ]
    }
   ],
   "source": [
    "# Load video counts. Sort by video ID & date\n",
    "video_data = pd.read_csv('data/challenge_2/video_count.csv')\n",
    "video_data = video_data.sort_values(by=['video_id', 'date'])\n",
    "video_data = video_data.reset_index(drop=True)\n",
    "print(video_data.shape)\n",
    "\n",
    "# Load video features. Sort by video ID\n",
    "video_features = pd.read_csv('data/challenge_2/video_features.csv')\n",
    "video_features = video_features.sort_values(by=['video_id'])\n",
    "video_features = video_features.reset_index(drop=True)\n",
    "print(video_features.shape)\n",
    "\n",
    "print('\\n')\n",
    "print(video_data.head(3))\n",
    "print('\\n')\n",
    "print(video_features.head(3))"
   ]
  },
  {
   "cell_type": "markdown",
   "metadata": {
    "deletable": true,
    "editable": true
   },
   "source": [
    "### Data Information"
   ]
  },
  {
   "cell_type": "code",
   "execution_count": 3,
   "metadata": {
    "collapsed": false,
    "deletable": true,
    "editable": true
   },
   "outputs": [
    {
     "name": "stdout",
     "output_type": "stream",
     "text": [
      "41775 total samples\n",
      "15 different days\n",
      "2785 different videos\n"
     ]
    }
   ],
   "source": [
    "total_samples = video_data.counts.shape[0]\n",
    "num_days = np.unique(video_data['date']).shape[0]\n",
    "num_vids = int(total_samples / num_days)\n",
    "\n",
    "print('%d total samples' % total_samples)\n",
    "print('%d different days' % num_days)\n",
    "print('%d different videos' % num_vids)"
   ]
  },
  {
   "cell_type": "markdown",
   "metadata": {
    "deletable": true,
    "editable": true
   },
   "source": [
    "## Group counts to video_id"
   ]
  },
  {
   "cell_type": "code",
   "execution_count": 4,
   "metadata": {
    "collapsed": false,
    "deletable": true,
    "editable": true
   },
   "outputs": [
    {
     "name": "stdout",
     "output_type": "stream",
     "text": [
      "Video counts:  (2785, 15)\n",
      "    Video ID:  (2785, 1)\n"
     ]
    }
   ],
   "source": [
    "counts = np.zeros((num_vids, num_days))\n",
    "video_id = np.zeros((num_vids, 1))\n",
    "\n",
    "for vid_id in range(num_vids):\n",
    "    counts[vid_id, :] = video_data['counts'][(vid_id*num_days) : (vid_id+1)*num_days]\n",
    "    video_id[vid_id, 0] = video_data['video_id'][(vid_id*num_days)]\n",
    "    \n",
    "print('Video counts: ', counts.shape)\n",
    "print('    Video ID: ', video_id.shape)"
   ]
  },
  {
   "cell_type": "markdown",
   "metadata": {
    "deletable": true,
    "editable": true
   },
   "source": [
    "## Normalise data"
   ]
  },
  {
   "cell_type": "code",
   "execution_count": 5,
   "metadata": {
    "collapsed": false,
    "deletable": true,
    "editable": true
   },
   "outputs": [
    {
     "name": "stdout",
     "output_type": "stream",
     "text": [
      "Normalised data shape:  (2785, 15)\n"
     ]
    }
   ],
   "source": [
    "counts_norm = np.zeros(counts.shape)\n",
    "\n",
    "for i in range(num_vids):\n",
    "    counts_norm[i,:] = counts[i,:] / counts[i,0]\n",
    "    \n",
    "print('Normalised data shape: ', counts_norm.shape)"
   ]
  },
  {
   "cell_type": "markdown",
   "metadata": {
    "deletable": true,
    "editable": true
   },
   "source": [
    "# Clustering"
   ]
  },
  {
   "cell_type": "markdown",
   "metadata": {
    "deletable": true,
    "editable": true
   },
   "source": [
    "## Classify 'Hot' Videos"
   ]
  },
  {
   "cell_type": "code",
   "execution_count": 174,
   "metadata": {
    "collapsed": false,
    "deletable": true,
    "editable": true
   },
   "outputs": [],
   "source": [
    "from sklearn.cluster import KMeans\n",
    "\n",
    "kmeans1 = KMeans(n_clusters=2, tol=1e2, init='random', random_state=0).fit(counts_norm)\n",
    "dict1 = {i: np.where(kmeans1.labels_ == i)[0] for i in range(kmeans1.n_clusters)}"
   ]
  },
  {
   "cell_type": "code",
   "execution_count": 175,
   "metadata": {
    "collapsed": false,
    "deletable": true,
    "editable": true
   },
   "outputs": [
    {
     "name": "stdout",
     "output_type": "stream",
     "text": [
      "\"Hot\" videos:  463\n",
      "Other videos:  2322\n"
     ]
    }
   ],
   "source": [
    "if np.mean(counts_norm[dict1[0]]) > np.mean(counts_norm[dict1[1]]):\n",
    "    hot_idx = dict1[0]\n",
    "    other_idx = dict1[1]\n",
    "    labels = ['Hot', 'Other']\n",
    "else:\n",
    "    hot_idx = dict1[1]\n",
    "    other_idx = dict1[0]\n",
    "    labels = ['Other', 'Hot']\n",
    "\n",
    "print('\"Hot\" videos: ', hot_idx.shape[0])\n",
    "print('Other videos: ', other_idx.shape[0])"
   ]
  },
  {
   "cell_type": "code",
   "execution_count": 184,
   "metadata": {
    "collapsed": false
   },
   "outputs": [
    {
     "name": "stdout",
     "output_type": "stream",
     "text": [
      "Hot:    Norm: 30.25    Count: 85810\n",
      "Other:    Norm:  0.87    Count: 731759\n"
     ]
    },
    {
     "data": {
      "image/png": "[encoded data removed]",
      "text/plain": [
       "<matplotlib.figure.Figure at 0x7f4c6db84208>"
      ]
     },
     "metadata": {},
     "output_type": "display_data"
    }
   ],
   "source": [
    "from utils.utils import*\n",
    "\n",
    "plot(kmeans1, counts, counts_norm, dict1, labels)"
   ]
  },
  {
   "cell_type": "markdown",
   "metadata": {
    "deletable": true,
    "editable": true
   },
   "source": [
    "## Classify Stable & Popular vs. Everything Else"
   ]
  },
  {
   "cell_type": "code",
   "execution_count": null,
   "metadata": {
    "collapsed": false,
    "deletable": true,
    "editable": true
   },
   "outputs": [],
   "source": [
    "kmeans2 = KMeans(n_clusters=2, random_state=0).fit(counts[other_idx])\n",
    "dict2 = {i: np.where(kmeans2.labels_ == i)[0] for i in range(kmeans2.n_clusters)}"
   ]
  },
  {
   "cell_type": "code",
   "execution_count": null,
   "metadata": {
    "collapsed": false,
    "deletable": true,
    "editable": true
   },
   "outputs": [],
   "source": [
    "if np.mean(counts[other_idx][dict2[0]]) > np.mean(counts[other_idx][dict2[1]]):\n",
    "    popular_idx = dict2[0]\n",
    "    else_idx = dict2[1]\n",
    "else:\n",
    "    popular_idx = dict2[1]\n",
    "    else_idx = dict2[0]"
   ]
  },
  {
   "cell_type": "code",
   "execution_count": null,
   "metadata": {
    "collapsed": false,
    "deletable": true,
    "editable": true
   },
   "outputs": [],
   "source": [
    "# Plot the results\n",
    "plt.figure(figsize=(16,4))\n",
    "\n",
    "plt.subplot(1, 2, 1)\n",
    "for i in set(kmeans2.labels_):\n",
    "    index = kmeans2.labels_ == i\n",
    "    plt.plot(np.mean(counts_norm[other_idx][index, :], axis=1), np.mean(counts[other_idx][index, :], axis=1), 'o', label=str(i))\n",
    "    print('Cluster %d:    Norm: %5.2f    Count: %.0f' % (i, np.mean(counts_norm[other_idx][dict2[i]]), np.mean(counts[other_idx][dict2[i]])))\n",
    "plt.legend()\n",
    "\n",
    "# plt.subplot(1, 2, 2)\n",
    "# concat = np.concatenate((np.mean(counts_norm[dict1[0]], axis=1), np.mean(counts_norm[dict1[1]], axis=1)), axis=0)\n",
    "# print(concat.shape)\n",
    "# plt.hist(concat, histtpe='bar', bins=100)\n",
    "# # plt.hist(np.mean(counts_norm[dict1[0]], axis=1), histtpe='bar', bins=100)\n",
    "# plt.show()\n",
    "\n",
    "\n",
    "plt.subplot(1, 2, 2)\n",
    "a = list(np.mean(counts[other_idx][dict2[0]], axis=1))\n",
    "b = list(np.mean(counts[other_idx][dict2[1]], axis=1))\n",
    "c = [a,b]\n",
    "plt.hist(c, histtype='bar', bins=5)\n",
    "plt.show()"
   ]
  },
  {
   "cell_type": "markdown",
   "metadata": {
    "deletable": true,
    "editable": true
   },
   "source": [
    "# Classifications"
   ]
  },
  {
   "cell_type": "code",
   "execution_count": null,
   "metadata": {
    "collapsed": false,
    "deletable": true,
    "editable": true,
    "scrolled": true
   },
   "outputs": [],
   "source": [
    "## Hot videos\n",
    "video_id[hot_idx][:5]"
   ]
  },
  {
   "cell_type": "code",
   "execution_count": null,
   "metadata": {
    "collapsed": false,
    "deletable": true,
    "editable": true
   },
   "outputs": [],
   "source": [
    "## Stable & Popular videos\n",
    "video_id[popular_idx][:5]"
   ]
  },
  {
   "cell_type": "code",
   "execution_count": null,
   "metadata": {
    "collapsed": false,
    "deletable": true,
    "editable": true
   },
   "outputs": [],
   "source": [
    "## Everything Else\n",
    "video_id[else_idx][:5]"
   ]
  },
  {
   "cell_type": "markdown",
   "metadata": {
    "collapsed": false,
    "deletable": true,
    "editable": true
   },
   "source": [
    "## Characteristics of \"Hot\" Videos"
   ]
  },
  {
   "cell_type": "code",
   "execution_count": null,
   "metadata": {
    "collapsed": false,
    "deletable": true,
    "editable": true
   },
   "outputs": [],
   "source": [
    "hot_idx"
   ]
  },
  {
   "cell_type": "code",
   "execution_count": null,
   "metadata": {
    "collapsed": false,
    "deletable": true,
    "editable": true
   },
   "outputs": [],
   "source": [
    "plt.hist(video_features['video_length'][hot_idx])"
   ]
  },
  {
   "cell_type": "code",
   "execution_count": null,
   "metadata": {
    "collapsed": false,
    "deletable": true,
    "editable": true,
    "scrolled": true
   },
   "outputs": [],
   "source": [
    "video_features['video_language'][hot_idx] == 'Cn'"
   ]
  },
  {
   "cell_type": "code",
   "execution_count": null,
   "metadata": {
    "collapsed": true,
    "deletable": true,
    "editable": true
   },
   "outputs": [],
   "source": [
    "# Cn = video_features['video_language'][hot_idx] == 'Cn'\n",
    "# De\n",
    "En_idx = video_features['video_language'][hot_idx] == 'En'\n",
    "# Es\n",
    "# Fr\n",
    "# Other"
   ]
  },
  {
   "cell_type": "code",
   "execution_count": null,
   "metadata": {
    "collapsed": false,
    "deletable": true,
    "editable": true
   },
   "outputs": [],
   "source": [
    "video_features['video_language'][hot_idx][En_idx]"
   ]
  },
  {
   "cell_type": "code",
   "execution_count": null,
   "metadata": {
    "collapsed": false,
    "deletable": true,
    "editable": true
   },
   "outputs": [],
   "source": [
    "languages = np.unique(video_features['video_language'][hot_idx])\n",
    "languages"
   ]
  },
  {
   "cell_type": "code",
   "execution_count": null,
   "metadata": {
    "collapsed": true,
    "deletable": true,
    "editable": true
   },
   "outputs": [],
   "source": [
    "for l in range(languages):\n",
    "    "
   ]
  },
  {
   "cell_type": "code",
   "execution_count": null,
   "metadata": {
    "collapsed": true,
    "deletable": true,
    "editable": true
   },
   "outputs": [],
   "source": []
  },
  {
   "cell_type": "code",
   "execution_count": null,
   "metadata": {
    "collapsed": true,
    "deletable": true,
    "editable": true
   },
   "outputs": [],
   "source": []
  }
 ],
 "metadata": {
  "kernelspec": {
   "display_name": "Python 3",
   "language": "python",
   "name": "python3"
  },
  "language_info": {
   "codemirror_mode": {
    "name": "ipython",
    "version": 3
   },
   "file_extension": ".py",
   "mimetype": "text/x-python",
   "name": "python",
   "nbconvert_exporter": "python",
   "pygments_lexer": "ipython3",
   "version": "3.5.2"
  }
 },
 "nbformat": 4,
 "nbformat_minor": 0
}
